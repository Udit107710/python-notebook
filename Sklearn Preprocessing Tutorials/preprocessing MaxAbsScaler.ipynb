{
 "cells": [
  {
   "cell_type": "markdown",
   "metadata": {},
   "source": [
    "# MaxAbsScaler"
   ]
  },
  {
   "cell_type": "markdown",
   "metadata": {},
   "source": [
    "MaxAbsScaler is a function in the preprocessing class of sklearn library. It is used for Sparse Datasets.\n",
    "\n",
    "We cannot do Scaling and centering of sparse datasets directly because it can distort the actual structure of the dataset.\n",
    "\n",
    "Sparse datasets are those which have missing data at many places in the whole dataset. Missing data means less accuracy. \n",
    "\n",
    "We can come up with some solutions like:\n",
    "\n",
    "* Taking the mean of the whole attribute and replacing it with the missing values. This method is good to use because mean values do not hinder the dataset as a whole until the sparsity of data is less. More replacing the missing values with the mean will surely decrease the standard deviation, which can negatively impact on accuracy.\n",
    "\n",
    "\n",
    "* Taking the whole tuple out of the dataset which do have any value missing. This method is good only for very small datasets because removing large datasets will decrease the accuracy at great extent.\n",
    "\n",
    "\n",
    "* We can use algorithms which internally handle the sparsity of the dataset.\n",
    "\n"
   ]
  },
  {
   "cell_type": "code",
   "execution_count": 8,
   "metadata": {},
   "outputs": [],
   "source": [
    "from sklearn.preprocessing import MaxAbsScaler"
   ]
  },
  {
   "cell_type": "markdown",
   "metadata": {},
   "source": [
    "MaxAbsScaler scales and transform individual attributes so that maximum absolute value of each attribute will be 1.\n",
    "\n",
    "This does not centers the data so it does not distort the sparsity of the dataset."
   ]
  },
  {
   "cell_type": "code",
   "execution_count": 32,
   "metadata": {},
   "outputs": [],
   "source": [
    "import pandas as pd\n",
    "data = pd.DataFrame([[5., 0, 0], [7., 0, 9.], [9., 0, 3.], [0 ,0, 41.]], columns=list('ABC'))\n",
    "data = data.values"
   ]
  },
  {
   "cell_type": "markdown",
   "metadata": {},
   "source": [
    "you can see that most of the values in the dataset are 0, which means it is a spase dataset."
   ]
  },
  {
   "cell_type": "code",
   "execution_count": 33,
   "metadata": {},
   "outputs": [
    {
     "data": {
      "text/plain": [
       "array([[0.55555556, 0.        , 0.        ],\n",
       "       [0.77777778, 0.        , 0.2195122 ],\n",
       "       [1.        , 0.        , 0.07317073],\n",
       "       [0.        , 0.        , 1.        ]])"
      ]
     },
     "execution_count": 33,
     "metadata": {},
     "output_type": "execute_result"
    }
   ],
   "source": [
    "scaler = MaxAbsScaler()\n",
    "scaler.fit_transform(data)"
   ]
  },
  {
   "cell_type": "markdown",
   "metadata": {},
   "source": [
    "# Attributes"
   ]
  },
  {
   "cell_type": "markdown",
   "metadata": {},
   "source": [
    "* scale_ : relative scaling of the data per feature"
   ]
  },
  {
   "cell_type": "code",
   "execution_count": 42,
   "metadata": {},
   "outputs": [
    {
     "data": {
      "text/plain": [
       "array([ 9.,  1., 41.])"
      ]
     },
     "execution_count": 42,
     "metadata": {},
     "output_type": "execute_result"
    }
   ],
   "source": [
    "scaler.scale_"
   ]
  },
  {
   "cell_type": "markdown",
   "metadata": {},
   "source": [
    "* max_abs_ : maximum absolute value per feature"
   ]
  },
  {
   "cell_type": "code",
   "execution_count": 43,
   "metadata": {},
   "outputs": [
    {
     "data": {
      "text/plain": [
       "array([ 9.,  0., 41.])"
      ]
     },
     "execution_count": 43,
     "metadata": {},
     "output_type": "execute_result"
    }
   ],
   "source": [
    "scaler.max_abs_"
   ]
  },
  {
   "cell_type": "markdown",
   "metadata": {},
   "source": [
    "* n_samples_seen_ : number of samples processed by the estimator"
   ]
  },
  {
   "cell_type": "code",
   "execution_count": 44,
   "metadata": {},
   "outputs": [
    {
     "data": {
      "text/plain": [
       "4"
      ]
     },
     "execution_count": 44,
     "metadata": {},
     "output_type": "execute_result"
    }
   ],
   "source": [
    "scaler.n_samples_seen_"
   ]
  },
  {
   "cell_type": "markdown",
   "metadata": {},
   "source": [
    "# References"
   ]
  },
  {
   "cell_type": "markdown",
   "metadata": {},
   "source": [
    "http://scikit-learn.org/stable/modules/generated/sklearn.preprocessing.MaxAbsScaler.html#sklearn.preprocessing.MaxAbsScaler\n",
    "\n",
    "http://www.diva-portal.se/smash/get/diva2:1111045/FULLTEXT01.pdf"
   ]
  },
  {
   "cell_type": "code",
   "execution_count": null,
   "metadata": {},
   "outputs": [],
   "source": []
  }
 ],
 "metadata": {
  "kernelspec": {
   "display_name": "Python 3",
   "language": "python",
   "name": "python3"
  },
  "language_info": {
   "codemirror_mode": {
    "name": "ipython",
    "version": 3
   },
   "file_extension": ".py",
   "mimetype": "text/x-python",
   "name": "python",
   "nbconvert_exporter": "python",
   "pygments_lexer": "ipython3",
   "version": "3.5.4"
  }
 },
 "nbformat": 4,
 "nbformat_minor": 2
}
